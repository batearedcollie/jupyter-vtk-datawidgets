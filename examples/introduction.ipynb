{
 "cells": [
  {
   "cell_type": "markdown",
   "metadata": {},
   "source": [
    "# Introduction"
   ]
  },
  {
   "cell_type": "markdown",
   "metadata": {},
   "source": [
    "## Jupyter - VTK bridge"
   ]
  },
  {
   "cell_type": "code",
   "execution_count": 1,
   "metadata": {},
   "outputs": [],
   "source": [
    "import vtk\n",
    "from vtkdatawidgets.vtk_binding import VtkJupyterBridge"
   ]
  },
  {
   "cell_type": "markdown",
   "metadata": {},
   "source": [
    "First we set up our bridge object:"
   ]
  },
  {
   "cell_type": "code",
   "execution_count": 2,
   "metadata": {},
   "outputs": [],
   "source": [
    "bridge = VtkJupyterBridge()"
   ]
  },
  {
   "cell_type": "markdown",
   "metadata": {},
   "source": [
    "This object is a VTK sink (algorithm with 1 input, 0 outputs), that translates the input data to a jupyter widget representation on `RequestData` (i.e. when `.Update()` is called)."
   ]
  },
  {
   "cell_type": "markdown",
   "metadata": {},
   "source": [
    "Let's set up some placeholder VTK source (a simple sphere in this case), and set it as the input of our bridge:"
   ]
  },
  {
   "cell_type": "code",
   "execution_count": 3,
   "metadata": {},
   "outputs": [
    {
     "name": "stderr",
     "output_type": "stream",
     "text": [
      "C:\\cleanconda\\envs\\vtk\\lib\\site-packages\\ipydatawidgets\\ndarray\\serializers.py:62: UserWarning: Cannot serialize (u)int64 data, Javascript does not support it. Casting to (u)int32.\n",
      "  warnings.warn('Cannot serialize (u)int64 data, Javascript does not support it. '\n"
     ]
    }
   ],
   "source": [
    "sphere = vtk.vtkSphereSource()\n",
    "bridge.SetInputConnection(sphere.GetOutputPort())\n",
    "bridge.Update()"
   ]
  },
  {
   "cell_type": "markdown",
   "metadata": {},
   "source": [
    "At the `.Update()` call, the data is serialized and sent to the browser. There we can use it however we want. For now, let us visualize it using a simple vtk.js based rendering. This will set up a similar bridge in the browser: from widgets to a vtk.js data source (0 inputs, 1 output):"
   ]
  },
  {
   "cell_type": "code",
   "execution_count": 4,
   "metadata": {},
   "outputs": [
    {
     "data": {
      "application/vnd.jupyter.widget-view+json": {
       "model_id": "56830081dc1c49008b65106168e3a793",
       "version_major": 2,
       "version_minor": 0
      },
      "text/html": [
       "<p>Failed to display Jupyter Widget of type <code>VtkRenderer</code>.</p>\n",
       "<p>\n",
       "  If you're reading this message in the Jupyter Notebook or JupyterLab Notebook, it may mean\n",
       "  that the widgets JavaScript is still loading. If this message persists, it\n",
       "  likely means that the widgets JavaScript library is either not installed or\n",
       "  not enabled. See the <a href=\"https://ipywidgets.readthedocs.io/en/stable/user_install.html\">Jupyter\n",
       "  Widgets Documentation</a> for setup instructions.\n",
       "</p>\n",
       "<p>\n",
       "  If you're reading this message in another frontend (for example, a static\n",
       "  rendering on GitHub or <a href=\"https://nbviewer.jupyter.org/\">NBViewer</a>),\n",
       "  it may mean that your frontend doesn't currently support widgets.\n",
       "</p>\n"
      ],
      "text/plain": [
       "VtkRenderer(background=(0.5, 0.0, 0.0), dataset=MutableDataSet(containers=(DataContainer(attributes={'Scalars': None, 'Vectors': None, 'Normals': None, 'TCoords': None, 'Tensors': None}, kind='CellData'), DataContainer(attributes={'Scalars': None, 'Vectors': None, 'Normals': 'Normals', 'TCoords': None, 'Tensors': None}, data_arrays=(DataArray(data=array([[ 0.0000000e+00,  0.0000000e+00,  1.0000000e+00],\n",
       "       [ 0.0000000e+00,  0.0000000e+00, -1.0000000e+00],\n",
       "       [ 4.3388373e-01,  0.0000000e+00,  9.0096885e-01],\n",
       "       [ 7.8183150e-01,  0.0000000e+00,  6.2348980e-01],\n",
       "       [ 9.7492790e-01,  0.0000000e+00,  2.2252093e-01],\n",
       "       [ 9.7492790e-01,  0.0000000e+00, -2.2252093e-01],\n",
       "       [ 7.8183150e-01,  0.0000000e+00, -6.2348980e-01],\n",
       "       [ 4.3388373e-01,  0.0000000e+00, -9.0096885e-01],\n",
       "       [ 3.0680212e-01,  3.0680212e-01,  9.0096885e-01],\n",
       "       [ 5.5283833e-01,  5.5283833e-01,  6.2348980e-01],\n",
       "       [ 6.8937814e-01,  6.8937814e-01,  2.2252093e-01],\n",
       "       [ 6.8937814e-01,  6.8937814e-01, -2.2252093e-01],\n",
       "       [ 5.5283833e-01,  5.5283833e-01, -6.2348980e-01],\n",
       "       [ 3.0680212e-01,  3.0680212e-01, -9.0096885e-01],\n",
       "       [ 2.6567716e-17,  4.3388373e-01,  9.0096885e-01],\n",
       "       [ 4.7873372e-17,  7.8183150e-01,  6.2348980e-01],\n",
       "       [ 5.9697115e-17,  9.7492790e-01,  2.2252093e-01],\n",
       "       [ 5.9697115e-17,  9.7492790e-01, -2.2252093e-01],\n",
       "       [ 4.7873372e-17,  7.8183150e-01, -6.2348980e-01],\n",
       "       [ 2.6567716e-17,  4.3388373e-01, -9.0096885e-01],\n",
       "       [-3.0680212e-01,  3.0680212e-01,  9.0096885e-01],\n",
       "       [-5.5283833e-01,  5.5283833e-01,  6.2348980e-01],\n",
       "       [-6.8937814e-01,  6.8937814e-01,  2.2252093e-01],\n",
       "       [-6.8937814e-01,  6.8937814e-01, -2.2252093e-01],\n",
       "       [-5.5283833e-01,  5.5283833e-01, -6.2348980e-01],\n",
       "       [-3.0680212e-01,  3.0680212e-01, -9.0096885e-01],\n",
       "       [-4.3388373e-01,  5.3135432e-17,  9.0096885e-01],\n",
       "       [-7.8183150e-01,  9.5746745e-17,  6.2348980e-01],\n",
       "       [-9.7492790e-01,  1.1939423e-16,  2.2252093e-01],\n",
       "       [-9.7492790e-01,  1.1939423e-16, -2.2252093e-01],\n",
       "       [-7.8183150e-01,  9.5746745e-17, -6.2348980e-01],\n",
       "       [-4.3388373e-01,  5.3135432e-17, -9.0096885e-01],\n",
       "       [-3.0680212e-01, -3.0680212e-01,  9.0096885e-01],\n",
       "       [-5.5283833e-01, -5.5283833e-01,  6.2348980e-01],\n",
       "       [-6.8937814e-01, -6.8937814e-01,  2.2252093e-01],\n",
       "       [-6.8937814e-01, -6.8937814e-01, -2.2252093e-01],\n",
       "       [-5.5283833e-01, -5.5283833e-01, -6.2348980e-01],\n",
       "       [-3.0680212e-01, -3.0680212e-01, -9.0096885e-01],\n",
       "       [-7.9703147e-17, -4.3388373e-01,  9.0096885e-01],\n",
       "       [-1.4362011e-16, -7.8183150e-01,  6.2348980e-01],\n",
       "       [-1.7909135e-16, -9.7492790e-01,  2.2252093e-01],\n",
       "       [-1.7909135e-16, -9.7492790e-01, -2.2252093e-01],\n",
       "       [-1.4362011e-16, -7.8183150e-01, -6.2348980e-01],\n",
       "       [-7.9703147e-17, -4.3388373e-01, -9.0096885e-01],\n",
       "       [ 3.0680212e-01, -3.0680212e-01,  9.0096885e-01],\n",
       "       [ 5.5283833e-01, -5.5283833e-01,  6.2348980e-01],\n",
       "       [ 6.8937814e-01, -6.8937814e-01,  2.2252093e-01],\n",
       "       [ 6.8937814e-01, -6.8937814e-01, -2.2252093e-01],\n",
       "       [ 5.5283833e-01, -5.5283833e-01, -6.2348980e-01],\n",
       "       [ 3.0680212e-01, -3.0680212e-01, -9.0096885e-01]], dtype=float32), name='Normals'),), kind='PointData'), DataContainer(data_arrays=(DataArray(data=array([[ 0.0000000e+00,  0.0000000e+00,  5.0000000e-01],\n",
       "       [ 0.0000000e+00,  0.0000000e+00, -5.0000000e-01],\n",
       "       [ 2.1694186e-01,  0.0000000e+00,  4.5048442e-01],\n",
       "       [ 3.9091575e-01,  0.0000000e+00,  3.1174490e-01],\n",
       "       [ 4.8746395e-01,  0.0000000e+00,  1.1126047e-01],\n",
       "       [ 4.8746395e-01,  0.0000000e+00, -1.1126047e-01],\n",
       "       [ 3.9091575e-01,  0.0000000e+00, -3.1174490e-01],\n",
       "       [ 2.1694186e-01,  0.0000000e+00, -4.5048442e-01],\n",
       "       [ 1.5340106e-01,  1.5340106e-01,  4.5048442e-01],\n",
       "       [ 2.7641916e-01,  2.7641916e-01,  3.1174490e-01],\n",
       "       [ 3.4468907e-01,  3.4468907e-01,  1.1126047e-01],\n",
       "       [ 3.4468907e-01,  3.4468907e-01, -1.1126047e-01],\n",
       "       [ 2.7641916e-01,  2.7641916e-01, -3.1174490e-01],\n",
       "       [ 1.5340106e-01,  1.5340106e-01, -4.5048442e-01],\n",
       "       [ 1.3283858e-17,  2.1694186e-01,  4.5048442e-01],\n",
       "       [ 2.3936686e-17,  3.9091575e-01,  3.1174490e-01],\n",
       "       [ 2.9848558e-17,  4.8746395e-01,  1.1126047e-01],\n",
       "       [ 2.9848558e-17,  4.8746395e-01, -1.1126047e-01],\n",
       "       [ 2.3936686e-17,  3.9091575e-01, -3.1174490e-01],\n",
       "       [ 1.3283858e-17,  2.1694186e-01, -4.5048442e-01],\n",
       "       [-1.5340106e-01,  1.5340106e-01,  4.5048442e-01],\n",
       "       [-2.7641916e-01,  2.7641916e-01,  3.1174490e-01],\n",
       "       [-3.4468907e-01,  3.4468907e-01,  1.1126047e-01],\n",
       "       [-3.4468907e-01,  3.4468907e-01, -1.1126047e-01],\n",
       "       [-2.7641916e-01,  2.7641916e-01, -3.1174490e-01],\n",
       "       [-1.5340106e-01,  1.5340106e-01, -4.5048442e-01],\n",
       "       [-2.1694186e-01,  2.6567716e-17,  4.5048442e-01],\n",
       "       [-3.9091575e-01,  4.7873372e-17,  3.1174490e-01],\n",
       "       [-4.8746395e-01,  5.9697115e-17,  1.1126047e-01],\n",
       "       [-4.8746395e-01,  5.9697115e-17, -1.1126047e-01],\n",
       "       [-3.9091575e-01,  4.7873372e-17, -3.1174490e-01],\n",
       "       [-2.1694186e-01,  2.6567716e-17, -4.5048442e-01],\n",
       "       [-1.5340106e-01, -1.5340106e-01,  4.5048442e-01],\n",
       "       [-2.7641916e-01, -2.7641916e-01,  3.1174490e-01],\n",
       "       [-3.4468907e-01, -3.4468907e-01,  1.1126047e-01],\n",
       "       [-3.4468907e-01, -3.4468907e-01, -1.1126047e-01],\n",
       "       [-2.7641916e-01, -2.7641916e-01, -3.1174490e-01],\n",
       "       [-1.5340106e-01, -1.5340106e-01, -4.5048442e-01],\n",
       "       [-3.9851573e-17, -2.1694186e-01,  4.5048442e-01],\n",
       "       [-7.1810057e-17, -3.9091575e-01,  3.1174490e-01],\n",
       "       [-8.9545676e-17, -4.8746395e-01,  1.1126047e-01],\n",
       "       [-8.9545676e-17, -4.8746395e-01, -1.1126047e-01],\n",
       "       [-7.1810057e-17, -3.9091575e-01, -3.1174490e-01],\n",
       "       [-3.9851573e-17, -2.1694186e-01, -4.5048442e-01],\n",
       "       [ 1.5340106e-01, -1.5340106e-01,  4.5048442e-01],\n",
       "       [ 2.7641916e-01, -2.7641916e-01,  3.1174490e-01],\n",
       "       [ 3.4468907e-01, -3.4468907e-01,  1.1126047e-01],\n",
       "       [ 3.4468907e-01, -3.4468907e-01, -1.1126047e-01],\n",
       "       [ 2.7641916e-01, -2.7641916e-01, -3.1174490e-01],\n",
       "       [ 1.5340106e-01, -1.5340106e-01, -4.5048442e-01]], dtype=float32), name='Points'),), kind='Points'), DataContainer(data_arrays=(DataArray(data=array([], dtype=int64), name='cells'),), kind='Verts'), DataContainer(data_arrays=(DataArray(data=array([], dtype=int64), name='cells'),), kind='Lines'), DataContainer(data_arrays=(DataArray(data=array([], dtype=int64), name='cells'),), kind='Strips'), DataContainer(data_arrays=(DataArray(data=array([ 3,  2,  8,  0,  3,  8, 14,  0,  3, 14, 20,  0,  3, 20, 26,  0,  3,\n",
       "       26, 32,  0,  3, 32, 38,  0,  3, 38, 44,  0,  3, 44,  2,  0,  3,  7,\n",
       "        1, 13,  3, 13,  1, 19,  3, 19,  1, 25,  3, 25,  1, 31,  3, 31,  1,\n",
       "       37,  3, 37,  1, 43,  3, 43,  1, 49,  3, 49,  1,  7,  3,  2,  3,  9,\n",
       "        3,  2,  9,  8,  3,  3,  4, 10,  3,  3, 10,  9,  3,  4,  5, 11,  3,\n",
       "        4, 11, 10,  3,  5,  6, 12,  3,  5, 12, 11,  3,  6,  7, 13,  3,  6,\n",
       "       13, 12,  3,  8,  9, 15,  3,  8, 15, 14,  3,  9, 10, 16,  3,  9, 16,\n",
       "       15,  3, 10, 11, 17,  3, 10, 17, 16,  3, 11, 12, 18,  3, 11, 18, 17,\n",
       "        3, 12, 13, 19,  3, 12, 19, 18,  3, 14, 15, 21,  3, 14, 21, 20,  3,\n",
       "       15, 16, 22,  3, 15, 22, 21,  3, 16, 17, 23,  3, 16, 23, 22,  3, 17,\n",
       "       18, 24,  3, 17, 24, 23,  3, 18, 19, 25,  3, 18, 25, 24,  3, 20, 21,\n",
       "       27,  3, 20, 27, 26,  3, 21, 22, 28,  3, 21, 28, 27,  3, 22, 23, 29,\n",
       "        3, 22, 29, 28,  3, 23, 24, 30,  3, 23, 30, 29,  3, 24, 25, 31,  3,\n",
       "       24, 31, 30,  3, 26, 27, 33,  3, 26, 33, 32,  3, 27, 28, 34,  3, 27,\n",
       "       34, 33,  3, 28, 29, 35,  3, 28, 35, 34,  3, 29, 30, 36,  3, 29, 36,\n",
       "       35,  3, 30, 31, 37,  3, 30, 37, 36,  3, 32, 33, 39,  3, 32, 39, 38,\n",
       "        3, 33, 34, 40,  3, 33, 40, 39,  3, 34, 35, 41,  3, 34, 41, 40,  3,\n",
       "       35, 36, 42,  3, 35, 42, 41,  3, 36, 37, 43,  3, 36, 43, 42,  3, 38,\n",
       "       39, 45,  3, 38, 45, 44,  3, 39, 40, 46,  3, 39, 46, 45,  3, 40, 41,\n",
       "       47,  3, 40, 47, 46,  3, 41, 42, 48,  3, 41, 48, 47,  3, 42, 43, 49,\n",
       "        3, 42, 49, 48,  3, 44, 45,  3,  3, 44,  3,  2,  3, 45, 46,  4,  3,\n",
       "       45,  4,  3,  3, 46, 47,  5,  3, 46,  5,  4,  3, 47, 48,  6,  3, 47,\n",
       "        6,  5,  3, 48, 49,  7,  3, 48,  7,  6], dtype=int64), name='cells'),), kind='Polys')), kind='vtkPolyData'), size=(600, 400))"
      ]
     },
     "metadata": {},
     "output_type": "display_data"
    }
   ],
   "source": [
    "from vtkdatawidgets import VtkRenderer\n",
    "renderer = VtkRenderer(dataset=bridge.widget, background=(0.5, 0, 0), size=(600, 400))\n",
    "renderer"
   ]
  },
  {
   "cell_type": "markdown",
   "metadata": {},
   "source": [
    "The `VtkRenderer` object is a standard Jupyter widget that we connect up to the widget side of the bridge (`bridge.widget`). It does not understand native VTK objects."
   ]
  },
  {
   "cell_type": "markdown",
   "metadata": {},
   "source": [
    "Being a widget, the `VtkRenderer` is an interactive object. Setting its properties are immediately reflected in the frontend:"
   ]
  },
  {
   "cell_type": "code",
   "execution_count": 5,
   "metadata": {},
   "outputs": [
    {
     "data": {
      "application/vnd.jupyter.widget-view+json": {
       "model_id": "6a13ae67fedc41a7a40908b8b4a86009",
       "version_major": 2,
       "version_minor": 0
      },
      "text/html": [
       "<p>Failed to display Jupyter Widget of type <code>ColorPicker</code>.</p>\n",
       "<p>\n",
       "  If you're reading this message in the Jupyter Notebook or JupyterLab Notebook, it may mean\n",
       "  that the widgets JavaScript is still loading. If this message persists, it\n",
       "  likely means that the widgets JavaScript library is either not installed or\n",
       "  not enabled. See the <a href=\"https://ipywidgets.readthedocs.io/en/stable/user_install.html\">Jupyter\n",
       "  Widgets Documentation</a> for setup instructions.\n",
       "</p>\n",
       "<p>\n",
       "  If you're reading this message in another frontend (for example, a static\n",
       "  rendering on GitHub or <a href=\"https://nbviewer.jupyter.org/\">NBViewer</a>),\n",
       "  it may mean that your frontend doesn't currently support widgets.\n",
       "</p>\n"
      ],
      "text/plain": [
       "ColorPicker(value='darkred')"
      ]
     },
     "metadata": {},
     "output_type": "display_data"
    }
   ],
   "source": [
    "import ipywidgets\n",
    "picker = ipywidgets.ColorPicker(value='darkred')\n",
    "ipywidgets.jslink((picker, 'value'), (renderer, 'background'))\n",
    "picker"
   ]
  },
  {
   "cell_type": "markdown",
   "metadata": {},
   "source": [
    "Similarly, we can create a new bridge (this time from a cone source), and set that as the input of the renderer:"
   ]
  },
  {
   "cell_type": "code",
   "execution_count": null,
   "metadata": {},
   "outputs": [],
   "source": [
    "cone = vtk.vtkConeSource()\n",
    "bridge2 = VtkJupyterBridge()\n",
    "bridge2.SetInputConnection(cone.GetOutputPort())\n",
    "bridge2.Update()\n",
    "renderer.dataset = bridge2.widget"
   ]
  },
  {
   "cell_type": "markdown",
   "metadata": {},
   "source": [
    "Or, we can simply change the input of the current bridge:"
   ]
  },
  {
   "cell_type": "code",
   "execution_count": null,
   "metadata": {},
   "outputs": [],
   "source": [
    "bridge2.SetInputConnection(sphere.GetOutputPort())\n",
    "bridge2.Update()"
   ]
  },
  {
   "cell_type": "markdown",
   "metadata": {},
   "source": [
    "Notice that nothing will happen until you call `Update()` on the bridge, as VTK only produces the data on request."
   ]
  },
  {
   "cell_type": "code",
   "execution_count": null,
   "metadata": {},
   "outputs": [],
   "source": [
    "bridge2.SetInputConnection(cone.GetOutputPort())"
   ]
  },
  {
   "cell_type": "code",
   "execution_count": null,
   "metadata": {},
   "outputs": [],
   "source": [
    "bridge2.Update()"
   ]
  },
  {
   "cell_type": "markdown",
   "metadata": {},
   "source": [
    "In the future, there will likely be support for front-end driven update calls, but for now this is unsupported."
   ]
  },
  {
   "cell_type": "markdown",
   "metadata": {},
   "source": [
    "## Further notes:\n",
    "\n",
    "Note that VTK.js currently only supports:\n",
    "- PolyData\n",
    "- ImageData\n",
    "\n",
    "So if you need to transform any inputs you have to those formats before passing it to the bridge."
   ]
  },
  {
   "cell_type": "code",
   "execution_count": null,
   "metadata": {},
   "outputs": [],
   "source": []
  }
 ],
 "metadata": {
  "kernelspec": {
   "display_name": "Python 3",
   "language": "python",
   "name": "python3"
  },
  "language_info": {
   "codemirror_mode": {
    "name": "ipython",
    "version": 3
   },
   "file_extension": ".py",
   "mimetype": "text/x-python",
   "name": "python",
   "nbconvert_exporter": "python",
   "pygments_lexer": "ipython3",
   "version": "3.6.4"
  },
  "widgets": {
   "application/vnd.jupyter.widget-state+json": {
    "state": {
     "098518b4a6c6452e995564d2e220b1ed": {
      "model_module": "jupyter-vtk-datawidgets",
      "model_module_version": "1.0.0",
      "model_name": "DataContainerModel",
      "state": {
       "attributes": {
        "Normals": null,
        "Scalars": null,
        "TCoords": null,
        "Tensors": null,
        "Vectors": null
       },
       "data_arrays": [],
       "kind": "CellData"
      }
     },
     "1db56ca70b124c9a9c973f8bd0320737": {
      "buffers": [
       {
        "data": "",
        "encoding": "base64",
        "path": [
         "data",
         "buffer"
        ]
       }
      ],
      "model_module": "jupyter-vtk-datawidgets",
      "model_module_version": "1.0.0",
      "model_name": "DataArrayModel",
      "state": {
       "data": {
        "dtype": "int32",
        "shape": [
         0
        ]
       },
       "name": "cells"
      }
     },
     "239e4d15f89c4b72b525ec89de12d39e": {
      "buffers": [
       {
        "data": "",
        "encoding": "base64",
        "path": [
         "data",
         "buffer"
        ]
       }
      ],
      "model_module": "jupyter-vtk-datawidgets",
      "model_module_version": "1.0.0",
      "model_name": "DataArrayModel",
      "state": {
       "data": {
        "dtype": "int32",
        "shape": [
         0
        ]
       },
       "name": "cells"
      }
     },
     "243a1691943646c3b7d4f4857f64348f": {
      "model_module": "jupyter-vtk-datawidgets",
      "model_module_version": "1.0.0",
      "model_name": "MutableDataSetModel",
      "state": {
       "containers": [
        "IPY_MODEL_098518b4a6c6452e995564d2e220b1ed",
        "IPY_MODEL_b8c9ea33b7134775ad011395cb9b2049",
        "IPY_MODEL_8b0d0494f33d4534ba60a4b33308a81c",
        "IPY_MODEL_8b6334471bb24e2692817fc02a7bf9de",
        "IPY_MODEL_afdc644959744238a5638fbae8d3d905",
        "IPY_MODEL_c3619f5f82f84766b76b164542ed72fe",
        "IPY_MODEL_e9b3e506374348119a0fa54501ab36b1"
       ],
       "kind": "vtkPolyData",
       "metadata": {}
      }
     },
     "52aca9cfa99947189c87020d648f651c": {
      "model_module": "@jupyter-widgets/controls",
      "model_module_version": "1.1.0",
      "model_name": "LinkModel",
      "state": {
       "source": [
        "IPY_MODEL_6a13ae67fedc41a7a40908b8b4a86009",
        "value"
       ],
       "target": [
        "IPY_MODEL_56830081dc1c49008b65106168e3a793",
        "background"
       ]
      }
     },
     "56830081dc1c49008b65106168e3a793": {
      "model_module": "jupyter-vtk-datawidgets",
      "model_module_version": "1.0.0",
      "model_name": "VtkRendererModel",
      "state": {
       "background": "darkred",
       "dataset": "IPY_MODEL_243a1691943646c3b7d4f4857f64348f",
       "layout": "IPY_MODEL_ee2b93e21f9f41cd95010cc06f2eb8e5"
      }
     },
     "65b766e93cd24735bb7e1b1c529f4da4": {
      "buffers": [
       {
        "data": "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",
        "encoding": "base64",
        "path": [
         "data",
         "buffer"
        ]
       }
      ],
      "model_module": "jupyter-vtk-datawidgets",
      "model_module_version": "1.0.0",
      "model_name": "DataArrayModel",
      "state": {
       "data": {
        "dtype": "int32",
        "shape": [
         384
        ]
       },
       "name": "cells"
      }
     },
     "6a13ae67fedc41a7a40908b8b4a86009": {
      "model_module": "@jupyter-widgets/controls",
      "model_module_version": "1.1.0",
      "model_name": "ColorPickerModel",
      "state": {
       "disabled": false,
       "layout": "IPY_MODEL_6dd610cb6cfe4d349987f0a3ddd9b2c2",
       "style": "IPY_MODEL_d65fef4f5b734758a465b95f4a405dc4",
       "value": "darkred"
      }
     },
     "6dd610cb6cfe4d349987f0a3ddd9b2c2": {
      "model_module": "@jupyter-widgets/base",
      "model_module_version": "1.0.0",
      "model_name": "LayoutModel",
      "state": {}
     },
     "8b0d0494f33d4534ba60a4b33308a81c": {
      "model_module": "jupyter-vtk-datawidgets",
      "model_module_version": "1.0.0",
      "model_name": "DataContainerModel",
      "state": {
       "attributes": {},
       "data_arrays": [
        "IPY_MODEL_aaefbd29659d4aefb06900715ec74670"
       ],
       "kind": "Points"
      }
     },
     "8b6334471bb24e2692817fc02a7bf9de": {
      "model_module": "jupyter-vtk-datawidgets",
      "model_module_version": "1.0.0",
      "model_name": "DataContainerModel",
      "state": {
       "attributes": {},
       "data_arrays": [
        "IPY_MODEL_1db56ca70b124c9a9c973f8bd0320737"
       ],
       "kind": "Verts"
      }
     },
     "aaefbd29659d4aefb06900715ec74670": {
      "buffers": [
       {
        "data": "AAAAAAAAAAAAAAA/AAAAAAAAAAAAAAC/AiZePgAAAADlpeY+HCbIPgAAAAAHnZ8+4JT5PgAAAACH3OM94JT5PgAAAACH3OO9HCbIPgAAAAAHnZ++AiZePgAAAADlpea+KxUdPisVHT7lpeY+0IaNPtCGjT4HnZ8+FnuwPhZ7sD6H3OM9FnuwPhZ7sD6H3OO90IaNPtCGjT4HnZ++KxUdPisVHT7lpea+Pwt1IwImXj7lpeY+58bcIxwmyD4HnZ8+9aYJJOCU+T6H3OM99aYJJOCU+T6H3OO958bcIxwmyD4HnZ++Pwt1IwImXj7lpea+KxUdvisVHT7lpeY+0IaNvtCGjT4HnZ8+FnuwvhZ7sD6H3OM9FnuwvhZ7sD6H3OO90IaNvtCGjT4HnZ++KxUdvisVHT7lpea+AiZevj8L9SPlpeY+HCbIvufGXCQHnZ8+4JT5vvWmiSSH3OM94JT5vvWmiSSH3OO9HCbIvufGXCQHnZ++AiZevj8L9SPlpea+KxUdvisVHb7lpeY+0IaNvtCGjb4HnZ8+FnuwvhZ7sL6H3OM9FnuwvhZ7sL6H3OO90IaNvtCGjb4HnZ++KxUdvisVHb7lpea+b8g3pAImXr7lpeY+LZWlpBwmyL4HnZ8+cHrOpOCU+b6H3OM9cHrOpOCU+b6H3OO9LZWlpBwmyL4HnZ++b8g3pAImXr7lpea+KxUdPisVHb7lpeY+0IaNPtCGjb4HnZ8+FnuwPhZ7sL6H3OM9FnuwPhZ7sL6H3OO90IaNPtCGjb4HnZ++KxUdPisVHb7lpea+",
        "encoding": "base64",
        "path": [
         "data",
         "buffer"
        ]
       }
      ],
      "model_module": "jupyter-vtk-datawidgets",
      "model_module_version": "1.0.0",
      "model_name": "DataArrayModel",
      "state": {
       "data": {
        "dtype": "float32",
        "shape": [
         50,
         3
        ]
       },
       "name": "Points"
      }
     },
     "afdc644959744238a5638fbae8d3d905": {
      "model_module": "jupyter-vtk-datawidgets",
      "model_module_version": "1.0.0",
      "model_name": "DataContainerModel",
      "state": {
       "attributes": {},
       "data_arrays": [
        "IPY_MODEL_239e4d15f89c4b72b525ec89de12d39e"
       ],
       "kind": "Lines"
      }
     },
     "b8c9ea33b7134775ad011395cb9b2049": {
      "model_module": "jupyter-vtk-datawidgets",
      "model_module_version": "1.0.0",
      "model_name": "DataContainerModel",
      "state": {
       "attributes": {
        "Normals": "Normals",
        "Scalars": null,
        "TCoords": null,
        "Tensors": null,
        "Vectors": null
       },
       "data_arrays": [
        "IPY_MODEL_d9eaf424c6824be68832175534782325"
       ],
       "kind": "PointData"
      }
     },
     "c3619f5f82f84766b76b164542ed72fe": {
      "model_module": "jupyter-vtk-datawidgets",
      "model_module_version": "1.0.0",
      "model_name": "DataContainerModel",
      "state": {
       "attributes": {},
       "data_arrays": [
        "IPY_MODEL_f64128a2b0cf4667947b789ead8b4564"
       ],
       "kind": "Strips"
      }
     },
     "d65fef4f5b734758a465b95f4a405dc4": {
      "model_module": "@jupyter-widgets/controls",
      "model_module_version": "1.1.0",
      "model_name": "DescriptionStyleModel",
      "state": {
       "description_width": ""
      }
     },
     "d9eaf424c6824be68832175534782325": {
      "buffers": [
       {
        "data": "AAAAAAAAAAAAAIA/AAAAAAAAAAAAAIC/AibePgAAAADlpWY/HCZIPwAAAAAHnR8/4JR5PwAAAACH3GM+4JR5PwAAAACH3GO+HCZIPwAAAAAHnR+/AibePgAAAADlpWa/KxWdPisVnT7lpWY/0IYNP9CGDT8HnR8/FnswPxZ7MD+H3GM+FnswPxZ7MD+H3GO+0IYNP9CGDT8HnR+/KxWdPisVnT7lpWa/Pwv1IwIm3j7lpWY/58ZcJBwmSD8HnR8/9aaJJOCUeT+H3GM+9aaJJOCUeT+H3GO+58ZcJBwmSD8HnR+/Pwv1IwIm3j7lpWa/KxWdvisVnT7lpWY/0IYNv9CGDT8HnR8/FnswvxZ7MD+H3GM+FnswvxZ7MD+H3GO+0IYNv9CGDT8HnR+/KxWdvisVnT7lpWa/Aibevj8LdSTlpWY/HCZIv+fG3CQHnR8/4JR5v/WmCSWH3GM+4JR5v/WmCSWH3GO+HCZIv+fG3CQHnR+/Aibevj8LdSTlpWa/KxWdvisVnb7lpWY/0IYNv9CGDb8HnR8/FnswvxZ7ML+H3GM+FnswvxZ7ML+H3GO+0IYNv9CGDb8HnR+/KxWdvisVnb7lpWa/b8i3pAIm3r7lpWY/LZUlpRwmSL8HnR8/cHpOpeCUeb+H3GM+cHpOpeCUeb+H3GO+LZUlpRwmSL8HnR+/b8i3pAIm3r7lpWa/KxWdPisVnb7lpWY/0IYNP9CGDb8HnR8/FnswPxZ7ML+H3GM+FnswPxZ7ML+H3GO+0IYNP9CGDb8HnR+/KxWdPisVnb7lpWa/",
        "encoding": "base64",
        "path": [
         "data",
         "buffer"
        ]
       }
      ],
      "model_module": "jupyter-vtk-datawidgets",
      "model_module_version": "1.0.0",
      "model_name": "DataArrayModel",
      "state": {
       "data": {
        "dtype": "float32",
        "shape": [
         50,
         3
        ]
       },
       "name": "Normals"
      }
     },
     "e9b3e506374348119a0fa54501ab36b1": {
      "model_module": "jupyter-vtk-datawidgets",
      "model_module_version": "1.0.0",
      "model_name": "DataContainerModel",
      "state": {
       "attributes": {},
       "data_arrays": [
        "IPY_MODEL_65b766e93cd24735bb7e1b1c529f4da4"
       ],
       "kind": "Polys"
      }
     },
     "ee2b93e21f9f41cd95010cc06f2eb8e5": {
      "model_module": "@jupyter-widgets/base",
      "model_module_version": "1.0.0",
      "model_name": "LayoutModel",
      "state": {}
     },
     "f64128a2b0cf4667947b789ead8b4564": {
      "buffers": [
       {
        "data": "",
        "encoding": "base64",
        "path": [
         "data",
         "buffer"
        ]
       }
      ],
      "model_module": "jupyter-vtk-datawidgets",
      "model_module_version": "1.0.0",
      "model_name": "DataArrayModel",
      "state": {
       "data": {
        "dtype": "int32",
        "shape": [
         0
        ]
       },
       "name": "cells"
      }
     }
    },
    "version_major": 2,
    "version_minor": 0
   }
  }
 },
 "nbformat": 4,
 "nbformat_minor": 2
}
